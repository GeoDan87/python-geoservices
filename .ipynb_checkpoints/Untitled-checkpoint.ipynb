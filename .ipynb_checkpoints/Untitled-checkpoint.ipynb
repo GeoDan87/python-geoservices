{
 "cells": [
  {
   "cell_type": "code",
   "execution_count": 17,
   "metadata": {},
   "outputs": [],
   "source": [
    "from urllib.parse import quote\n",
    "import urllib3\n",
    "import bs4 as BeautifulSoup\n",
    "import requests\n",
    "import pandas as pd"
   ]
  },
  {
   "cell_type": "code",
   "execution_count": 79,
   "metadata": {},
   "outputs": [],
   "source": [
    "import urls"
   ]
  },
  {
   "cell_type": "code",
   "execution_count": 82,
   "metadata": {},
   "outputs": [],
   "source": [
    "url = urls.base_url"
   ]
  },
  {
   "cell_type": "code",
   "execution_count": 83,
   "metadata": {},
   "outputs": [],
   "source": [
    "url = quote(url, safe = ':/?&=')"
   ]
  },
  {
   "cell_type": "code",
   "execution_count": 84,
   "metadata": {},
   "outputs": [],
   "source": [
    "try:\n",
    "    doc = requests.get(url).text\n",
    "except:       \n",
    "    print('exception!')"
   ]
  },
  {
   "cell_type": "code",
   "execution_count": 85,
   "metadata": {},
   "outputs": [],
   "source": [
    "content = BeautifulSoup.BeautifulSoup(doc, 'html.parser')"
   ]
  },
  {
   "cell_type": "code",
   "execution_count": 86,
   "metadata": {},
   "outputs": [],
   "source": [
    "table = content.find_all('table')"
   ]
  },
  {
   "cell_type": "code",
   "execution_count": 87,
   "metadata": {},
   "outputs": [],
   "source": [
    "df_list = [pd.read_html(str(t))[0] for t in table]"
   ]
  },
  {
   "cell_type": "code",
   "execution_count": 88,
   "metadata": {},
   "outputs": [],
   "source": [
    "dict_list = [d.to_dict(orient = 'records') for d in df_list]"
   ]
  },
  {
   "cell_type": "code",
   "execution_count": 89,
   "metadata": {},
   "outputs": [
    {
     "data": {
      "text/plain": [
       "[{'Type': 'Address',\n",
       "  'Description': 'Given a valid address, provides property-level information.',\n",
       "  'Geosupport Function': '1A'},\n",
       " {'Type': 'Address',\n",
       "  'Description': 'Given a valid address, provides blockface-level, property-level, and political information.',\n",
       "  'Geosupport Function': '1B'},\n",
       " {'Type': 'Address',\n",
       "  'Description': 'Given a valid address, provides blockface-level and political information.',\n",
       "  'Geosupport Function': '1E'},\n",
       " {'Type': 'Address',\n",
       "  'Description': 'Given a valid address, provides geographical information. Function AP only recognizes posted addresses.',\n",
       "  'Geosupport Function': 'AP'},\n",
       " {'Type': 'Intersection',\n",
       "  'Description': 'Given a valid borough and cross streets returns information for the point defined by the two streets.',\n",
       "  'Geosupport Function': '2'},\n",
       " {'Type': 'Street',\n",
       "  'Description': 'Given a valid borough, \"on street\" and cross streets provides blockface-level information.',\n",
       "  'Geosupport Function': '3'},\n",
       " {'Type': 'Street Stretch',\n",
       "  'Description': 'Given a valid borough, \"on street\" and optional cross streets, provides a list of cross streets and their information.',\n",
       "  'Geosupport Function': '3S'},\n",
       " {'Type': 'BBL',\n",
       "  'Description': 'Given a valid borough, block, and lot provides property-level information.',\n",
       "  'Geosupport Function': 'BL'},\n",
       " {'Type': 'BIN',\n",
       "  'Description': 'Given a valid building identification number provides property-level information.',\n",
       "  'Geosupport Function': 'BN'},\n",
       " {'Type': 'Name/Code',\n",
       "  'Description': 'Given a borough and street name, provides B10SC and street information',\n",
       "  'Geosupport Function': '1N'},\n",
       " {'Type': 'Name/Code',\n",
       "  'Description': 'Given a B5SC, or B7SC, or B10SC, returns associated street name and B10SC. If B5SC is entered, the Primary street name is returned, along with its B10SC. If B7SC is entered, the Principal street name is returned, along with its B10SC.',\n",
       "  'Geosupport Function': 'D'},\n",
       " {'Type': 'Name/Code',\n",
       "  'Description': 'Given a borough and a street name, returns that street name with its B10SC code, as well as the next nine street names alphabetically from the Street Name Dictionary.',\n",
       "  'Geosupport Function': 'BF'},\n",
       " {'Type': 'Normalize Inputs',\n",
       "  'Description': 'Given a street name, provides the normalized format for that street name',\n",
       "  'Geosupport Function': 'N'},\n",
       " {'Type': 'Normalize Inputs',\n",
       "  'Description': 'Given an address number, provides the normalized format for that address number',\n",
       "  'Geosupport Function': '1L'}]"
      ]
     },
     "execution_count": 89,
     "metadata": {},
     "output_type": "execute_result"
    }
   ],
   "source": [
    "dict_list[0]"
   ]
  },
  {
   "cell_type": "markdown",
   "metadata": {},
   "source": [
    "### Get the valid functions"
   ]
  },
  {
   "cell_type": "code",
   "execution_count": 94,
   "metadata": {},
   "outputs": [],
   "source": [
    "for i in dict_list[0]:\n",
    "    i.get('Geosupport Function')"
   ]
  },
  {
   "cell_type": "code",
   "execution_count": 109,
   "metadata": {},
   "outputs": [],
   "source": [
    "funs = [f.get('Geosupport Function') for f in dict_list[0]]"
   ]
  },
  {
   "cell_type": "code",
   "execution_count": 110,
   "metadata": {},
   "outputs": [
    {
     "data": {
      "text/plain": [
       "['1A',\n",
       " '1B',\n",
       " '1E',\n",
       " 'AP',\n",
       " '2',\n",
       " '3',\n",
       " '3S',\n",
       " 'BL',\n",
       " 'BN',\n",
       " '1N',\n",
       " 'D',\n",
       " 'BF',\n",
       " 'N',\n",
       " '1L']"
      ]
     },
     "execution_count": 110,
     "metadata": {},
     "output_type": "execute_result"
    }
   ],
   "source": [
    "funs"
   ]
  },
  {
   "cell_type": "markdown",
   "metadata": {},
   "source": [
    "### Get the function calls dict"
   ]
  },
  {
   "cell_type": "code",
   "execution_count": 127,
   "metadata": {},
   "outputs": [
    {
     "data": {
      "text/plain": [
       "[{'Function': '1A',\n",
       "  'Example': 'https://geoservice.planning.nyc.gov/geoservice/geoservice.svc/Function_1A?Borough=1&AddressNo=120&StreetName=bwy&Key=Key'},\n",
       " {'Function': '1B',\n",
       "  'Example': 'https://geoservice.planning.nyc.gov/geoservice/geoservice.svc/Function_1B?Borough=1&AddressNo=120&StreetName=bwy&Key=Key'},\n",
       " {'Function': '1E',\n",
       "  'Example': 'https://geoservice.planning.nyc.gov/geoservice/geoservice.svc/Function_1E?Borough=1&AddressNo=120&StreetName=bwy&Key=Key'},\n",
       " {'Function': 'AP',\n",
       "  'Example': 'https://geoservice.planning.nyc.gov/geoservice/geoservice.svc/Function_AP?Borough=1&AddressNo=120&StreetName=bwy&Key=Key'},\n",
       " {'Function': '2',\n",
       "  'Example': 'https://geoservice.planning.nyc.gov/geoservice/geoservice.svc/Function_2?Borough1=1&Street1=bwy&Borough2=1&Street2=cedar&key=Key'},\n",
       " {'Function': '3',\n",
       "  'Example': 'https://geoservice.planning.nyc.gov/geoservice/geoservice.svc/Function_3?Borough1=1&OnStreet=bwy&SecondCrossStreet=cedar&Borough2=1&FirstCrossStreet=thames&Borough3=1&key=Key'},\n",
       " {'Function': '3S',\n",
       "  'Example': 'https://geoservice.planning.nyc.gov/geoservice/geoservice.svc/Function_3S?Borough=1&OnStreet=BWY&FirstCrossStreet=Cedar&SecondCrossStreet=thames&key=Key'},\n",
       " {'Function': 'BL',\n",
       "  'Example': 'https://geoservice.planning.nyc.gov/geoservice/geoservice.svc/Function_BBL?Borough=1&Block=47&Lot=7501&key=Key'},\n",
       " {'Function': 'BN',\n",
       "  'Example': 'https://geoservice.planning.nyc.gov/geoservice/geoservice.svc/Function_BIN?BIN=1001026&key=Key'},\n",
       " {'Function': '1N',\n",
       "  'Example': 'https://geoservice.planning.nyc.gov/geoservice/geoservice.svc/Function_1N?Borough=1&StreetName=bwy&key=Key'},\n",
       " {'Function': 'D',\n",
       "  'Example': 'https://geoservice.planning.nyc.gov/geoservice/geoservice.svc/Function_D?B10sc1=11361001&key=Key'},\n",
       " {'Function': 'BF',\n",
       "  'Example': 'https://geoservice.planning.nyc.gov/geoservice/geoservice.svc/Function_BF?Borough=1&StreetName=bwy&key=Key'},\n",
       " {'Function': 'N',\n",
       "  'Example': 'https://geoservice.planning.nyc.gov/geoservice/geoservice.svc/Function_N?StreetName=bwy&key=Key'},\n",
       " {'Function': '1L',\n",
       "  'Example': 'https://geoservice.planning.nyc.gov/geoservice/geoservice.svc/Function_1L?AddressNo=120&key=Key'}]"
      ]
     },
     "execution_count": 127,
     "metadata": {},
     "output_type": "execute_result"
    }
   ],
   "source": [
    "dict_list[1]"
   ]
  },
  {
   "cell_type": "code",
   "execution_count": 177,
   "metadata": {},
   "outputs": [],
   "source": [
    "def get_fun_url(fun):\n",
    "    import urls\n",
    "    funs = {u.get('Function'): urls.svc_url + u.get('Example').replace(urls.svc_url, '')[0:u.get('Example').replace(urls.svc_url, '').find('?')].strip() for u in dict_list[1]}\n",
    "    fun_url = funs.get(fun)\n",
    "    return fun_url"
   ]
  },
  {
   "cell_type": "code",
   "execution_count": 178,
   "metadata": {},
   "outputs": [
    {
     "data": {
      "text/plain": [
       "'https://geoservice.planning.nyc.gov/geoservice/geoservice.svc/Function_N'"
      ]
     },
     "execution_count": 178,
     "metadata": {},
     "output_type": "execute_result"
    }
   ],
   "source": [
    "get_fun_url('N')"
   ]
  },
  {
   "cell_type": "code",
   "execution_count": 188,
   "metadata": {},
   "outputs": [],
   "source": [
    "def get_fun_inputs(fun):\n",
    "        print(get_fun_url(fun) + '?')\n",
    "        funs = {u.get('Function'): u.get('Example').replace(get_fun_url(fun) + '?', '') for u in dict_list[1]}\n",
    "        return funs"
   ]
  },
  {
   "cell_type": "code",
   "execution_count": 189,
   "metadata": {},
   "outputs": [
    {
     "name": "stdout",
     "output_type": "stream",
     "text": [
      "https://geoservice.planning.nyc.gov/geoservice/geoservice.svc/Function_N?\n"
     ]
    },
    {
     "data": {
      "text/plain": [
       "{'1A': 'https://geoservice.planning.nyc.gov/geoservice/geoservice.svc/Function_1A?Borough=1&AddressNo=120&StreetName=bwy&Key=Key',\n",
       " '1B': 'https://geoservice.planning.nyc.gov/geoservice/geoservice.svc/Function_1B?Borough=1&AddressNo=120&StreetName=bwy&Key=Key',\n",
       " '1E': 'https://geoservice.planning.nyc.gov/geoservice/geoservice.svc/Function_1E?Borough=1&AddressNo=120&StreetName=bwy&Key=Key',\n",
       " 'AP': 'https://geoservice.planning.nyc.gov/geoservice/geoservice.svc/Function_AP?Borough=1&AddressNo=120&StreetName=bwy&Key=Key',\n",
       " '2': 'https://geoservice.planning.nyc.gov/geoservice/geoservice.svc/Function_2?Borough1=1&Street1=bwy&Borough2=1&Street2=cedar&key=Key',\n",
       " '3': 'https://geoservice.planning.nyc.gov/geoservice/geoservice.svc/Function_3?Borough1=1&OnStreet=bwy&SecondCrossStreet=cedar&Borough2=1&FirstCrossStreet=thames&Borough3=1&key=Key',\n",
       " '3S': 'https://geoservice.planning.nyc.gov/geoservice/geoservice.svc/Function_3S?Borough=1&OnStreet=BWY&FirstCrossStreet=Cedar&SecondCrossStreet=thames&key=Key',\n",
       " 'BL': 'https://geoservice.planning.nyc.gov/geoservice/geoservice.svc/Function_BBL?Borough=1&Block=47&Lot=7501&key=Key',\n",
       " 'BN': 'https://geoservice.planning.nyc.gov/geoservice/geoservice.svc/Function_BIN?BIN=1001026&key=Key',\n",
       " '1N': 'https://geoservice.planning.nyc.gov/geoservice/geoservice.svc/Function_1N?Borough=1&StreetName=bwy&key=Key',\n",
       " 'D': 'https://geoservice.planning.nyc.gov/geoservice/geoservice.svc/Function_D?B10sc1=11361001&key=Key',\n",
       " 'BF': 'https://geoservice.planning.nyc.gov/geoservice/geoservice.svc/Function_BF?Borough=1&StreetName=bwy&key=Key',\n",
       " 'N': 'StreetName=bwy&key=Key',\n",
       " '1L': 'https://geoservice.planning.nyc.gov/geoservice/geoservice.svc/Function_1L?AddressNo=120&key=Key'}"
      ]
     },
     "execution_count": 189,
     "metadata": {},
     "output_type": "execute_result"
    }
   ],
   "source": [
    "get_fun_inputs('N')"
   ]
  }
 ],
 "metadata": {
  "kernelspec": {
   "display_name": "Python 3",
   "language": "python",
   "name": "python3"
  },
  "language_info": {
   "codemirror_mode": {
    "name": "ipython",
    "version": 3
   },
   "file_extension": ".py",
   "mimetype": "text/x-python",
   "name": "python",
   "nbconvert_exporter": "python",
   "pygments_lexer": "ipython3",
   "version": "3.8.3"
  }
 },
 "nbformat": 4,
 "nbformat_minor": 4
}
