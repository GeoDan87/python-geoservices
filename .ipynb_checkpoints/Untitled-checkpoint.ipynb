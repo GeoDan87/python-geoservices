{
 "cells": [
  {
   "cell_type": "code",
   "execution_count": 3,
   "metadata": {},
   "outputs": [],
   "source": [
    "from urllib.parse import quote\n",
    "import urllib3\n",
    "import bs4 as BeautifulSoup\n",
    "import requests\n",
    "import pandas as pd"
   ]
  },
  {
   "cell_type": "code",
   "execution_count": 4,
   "metadata": {},
   "outputs": [],
   "source": [
    "import urls"
   ]
  },
  {
   "cell_type": "code",
   "execution_count": 19,
   "metadata": {},
   "outputs": [],
   "source": [
    "def get_fun_info():\n",
    "    url = urls.base_url\n",
    "    url = quote(url, safe = ':/?&=')\n",
    "    \n",
    "    try:\n",
    "        doc = requests.get(url).text\n",
    "    except:       \n",
    "        print('exception!')\n",
    "        \n",
    "    content = BeautifulSoup.BeautifulSoup(doc, 'html.parser')\n",
    "    table = content.find_all('table')\n",
    "    df_list = [pd.read_html(str(t))[0] for t in table]\n",
    "    dict_list = [d.to_dict(orient = 'records') for d in df_list]\n",
    "    return dict_list"
   ]
  },
  {
   "cell_type": "code",
   "execution_count": 42,
   "metadata": {},
   "outputs": [
    {
     "data": {
      "text/plain": [
       "[[{'Type': 'Address',\n",
       "   'Description': 'Given a valid address, provides property-level information.',\n",
       "   'Geosupport Function': '1A'},\n",
       "  {'Type': 'Address',\n",
       "   'Description': 'Given a valid address, provides blockface-level, property-level, and political information.',\n",
       "   'Geosupport Function': '1B'},\n",
       "  {'Type': 'Address',\n",
       "   'Description': 'Given a valid address, provides blockface-level and political information.',\n",
       "   'Geosupport Function': '1E'},\n",
       "  {'Type': 'Address',\n",
       "   'Description': 'Given a valid address, provides geographical information. Function AP only recognizes posted addresses.',\n",
       "   'Geosupport Function': 'AP'},\n",
       "  {'Type': 'Intersection',\n",
       "   'Description': 'Given a valid borough and cross streets returns information for the point defined by the two streets.',\n",
       "   'Geosupport Function': '2'},\n",
       "  {'Type': 'Street',\n",
       "   'Description': 'Given a valid borough, \"on street\" and cross streets provides blockface-level information.',\n",
       "   'Geosupport Function': '3'},\n",
       "  {'Type': 'Street Stretch',\n",
       "   'Description': 'Given a valid borough, \"on street\" and optional cross streets, provides a list of cross streets and their information.',\n",
       "   'Geosupport Function': '3S'},\n",
       "  {'Type': 'BBL',\n",
       "   'Description': 'Given a valid borough, block, and lot provides property-level information.',\n",
       "   'Geosupport Function': 'BL'},\n",
       "  {'Type': 'BIN',\n",
       "   'Description': 'Given a valid building identification number provides property-level information.',\n",
       "   'Geosupport Function': 'BN'},\n",
       "  {'Type': 'Name/Code',\n",
       "   'Description': 'Given a borough and street name, provides B10SC and street information',\n",
       "   'Geosupport Function': '1N'},\n",
       "  {'Type': 'Name/Code',\n",
       "   'Description': 'Given a B5SC, or B7SC, or B10SC, returns associated street name and B10SC. If B5SC is entered, the Primary street name is returned, along with its B10SC. If B7SC is entered, the Principal street name is returned, along with its B10SC.',\n",
       "   'Geosupport Function': 'D'},\n",
       "  {'Type': 'Name/Code',\n",
       "   'Description': 'Given a borough and a street name, returns that street name with its B10SC code, as well as the next nine street names alphabetically from the Street Name Dictionary.',\n",
       "   'Geosupport Function': 'BF'},\n",
       "  {'Type': 'Normalize Inputs',\n",
       "   'Description': 'Given a street name, provides the normalized format for that street name',\n",
       "   'Geosupport Function': 'N'},\n",
       "  {'Type': 'Normalize Inputs',\n",
       "   'Description': 'Given an address number, provides the normalized format for that address number',\n",
       "   'Geosupport Function': '1L'}],\n",
       " [{'Function': '1A',\n",
       "   'Example': 'https://geoservice.planning.nyc.gov/geoservice/geoservice.svc/Function_1A?Borough=1&AddressNo=120&StreetName=bwy&Key=Key'},\n",
       "  {'Function': '1B',\n",
       "   'Example': 'https://geoservice.planning.nyc.gov/geoservice/geoservice.svc/Function_1B?Borough=1&AddressNo=120&StreetName=bwy&Key=Key'},\n",
       "  {'Function': '1E',\n",
       "   'Example': 'https://geoservice.planning.nyc.gov/geoservice/geoservice.svc/Function_1E?Borough=1&AddressNo=120&StreetName=bwy&Key=Key'},\n",
       "  {'Function': 'AP',\n",
       "   'Example': 'https://geoservice.planning.nyc.gov/geoservice/geoservice.svc/Function_AP?Borough=1&AddressNo=120&StreetName=bwy&Key=Key'},\n",
       "  {'Function': '2',\n",
       "   'Example': 'https://geoservice.planning.nyc.gov/geoservice/geoservice.svc/Function_2?Borough1=1&Street1=bwy&Borough2=1&Street2=cedar&key=Key'},\n",
       "  {'Function': '3',\n",
       "   'Example': 'https://geoservice.planning.nyc.gov/geoservice/geoservice.svc/Function_3?Borough1=1&OnStreet=bwy&SecondCrossStreet=cedar&Borough2=1&FirstCrossStreet=thames&Borough3=1&key=Key'},\n",
       "  {'Function': '3S',\n",
       "   'Example': 'https://geoservice.planning.nyc.gov/geoservice/geoservice.svc/Function_3S?Borough=1&OnStreet=BWY&FirstCrossStreet=Cedar&SecondCrossStreet=thames&key=Key'},\n",
       "  {'Function': 'BL',\n",
       "   'Example': 'https://geoservice.planning.nyc.gov/geoservice/geoservice.svc/Function_BBL?Borough=1&Block=47&Lot=7501&key=Key'},\n",
       "  {'Function': 'BN',\n",
       "   'Example': 'https://geoservice.planning.nyc.gov/geoservice/geoservice.svc/Function_BIN?BIN=1001026&key=Key'},\n",
       "  {'Function': '1N',\n",
       "   'Example': 'https://geoservice.planning.nyc.gov/geoservice/geoservice.svc/Function_1N?Borough=1&StreetName=bwy&key=Key'},\n",
       "  {'Function': 'D',\n",
       "   'Example': 'https://geoservice.planning.nyc.gov/geoservice/geoservice.svc/Function_D?B10sc1=11361001&key=Key'},\n",
       "  {'Function': 'BF',\n",
       "   'Example': 'https://geoservice.planning.nyc.gov/geoservice/geoservice.svc/Function_BF?Borough=1&StreetName=bwy&key=Key'},\n",
       "  {'Function': 'N',\n",
       "   'Example': 'https://geoservice.planning.nyc.gov/geoservice/geoservice.svc/Function_N?StreetName=bwy&key=Key'},\n",
       "  {'Function': '1L',\n",
       "   'Example': 'https://geoservice.planning.nyc.gov/geoservice/geoservice.svc/Function_1L?AddressNo=120&key=Key'}]]"
      ]
     },
     "execution_count": 42,
     "metadata": {},
     "output_type": "execute_result"
    }
   ],
   "source": [
    "get_fun_info()"
   ]
  },
  {
   "cell_type": "markdown",
   "metadata": {},
   "source": [
    "### Get the valid functions"
   ]
  },
  {
   "cell_type": "code",
   "execution_count": 40,
   "metadata": {},
   "outputs": [],
   "source": [
    "def check_fun(fun):\n",
    "    funs = [f.get('Geosupport Function') for f in get_fun_info()[0]]\n",
    "    check = [f for f in funs if f in [fun]]\n",
    "    if len(check) > 0:\n",
    "        return check[0]\n",
    "    else:\n",
    "        raise ValueError('The function defined, {}, does not exist.'.format(fun))\n",
    "    #return funs"
   ]
  },
  {
   "cell_type": "code",
   "execution_count": 41,
   "metadata": {},
   "outputs": [
    {
     "data": {
      "text/plain": [
       "'1A'"
      ]
     },
     "execution_count": 41,
     "metadata": {},
     "output_type": "execute_result"
    }
   ],
   "source": [
    "check_fun(\"1A\")"
   ]
  },
  {
   "cell_type": "markdown",
   "metadata": {},
   "source": [
    "### Get the function calls dict"
   ]
  },
  {
   "cell_type": "code",
   "execution_count": 64,
   "metadata": {},
   "outputs": [],
   "source": [
    "def substr_url(url, key, oldvalue, newvalue):\n",
    "    url = url.get(key)\n",
    "    new_url = url.replace(oldvalue, newvalue)\n",
    "    return new_url"
   ]
  },
  {
   "cell_type": "code",
   "execution_count": 67,
   "metadata": {},
   "outputs": [],
   "source": [
    "def get_fun_url(fun):\n",
    "    funs = {u.get('Function'): urls.svc_url + substr_url(u, 'Example', urls.svc_url, '')[0:substr_url(u, 'Example', urls.svc_url, '').find('?')] + '?'.strip() for u in get_fun_info()[1]}\n",
    "    fun_url = funs.get(fun)\n",
    "    return fun_url"
   ]
  },
  {
   "cell_type": "code",
   "execution_count": 68,
   "metadata": {},
   "outputs": [
    {
     "data": {
      "text/plain": [
       "'https://geoservice.planning.nyc.gov/geoservice/geoservice.svc/Function_N?'"
      ]
     },
     "execution_count": 68,
     "metadata": {},
     "output_type": "execute_result"
    }
   ],
   "source": [
    "get_fun_url('N')"
   ]
  },
  {
   "cell_type": "markdown",
   "metadata": {},
   "source": [
    "### Get the function inputs"
   ]
  },
  {
   "cell_type": "code",
   "execution_count": 106,
   "metadata": {},
   "outputs": [],
   "source": [
    "def get_fun_inputs(fun):\n",
    "        oldvalue = get_fun_url(fun)\n",
    "        \n",
    "        funs = {u.get('Function'): substr_url(u, 'Example', oldvalue, '') for u in get_fun_info()[1] if u.get('Function') in [fun]}\n",
    "        \n",
    "        inputs = {fun: [i[0:i.find('=')] for i in str(funs.get(fun)).split('&')]}\n",
    "        return inputs"
   ]
  },
  {
   "cell_type": "code",
   "execution_count": 111,
   "metadata": {},
   "outputs": [
    {
     "data": {
      "text/plain": [
       "{'BL': ['Borough', 'Block', 'Lot', 'key']}"
      ]
     },
     "execution_count": 111,
     "metadata": {},
     "output_type": "execute_result"
    }
   ],
   "source": [
    "get_fun_inputs('BL')"
   ]
  },
  {
   "cell_type": "markdown",
   "metadata": {},
   "source": [
    "### Validate if functions can be chained together"
   ]
  },
  {
   "cell_type": "code",
   "execution_count": null,
   "metadata": {},
   "outputs": [],
   "source": [
    "#Create a dictionary for validation\n",
    "{'BN': ['BBL', '1A', '1B', '1E']}"
   ]
  }
 ],
 "metadata": {
  "kernelspec": {
   "display_name": "Python 3",
   "language": "python",
   "name": "python3"
  },
  "language_info": {
   "codemirror_mode": {
    "name": "ipython",
    "version": 3
   },
   "file_extension": ".py",
   "mimetype": "text/x-python",
   "name": "python",
   "nbconvert_exporter": "python",
   "pygments_lexer": "ipython3",
   "version": "3.8.3"
  }
 },
 "nbformat": 4,
 "nbformat_minor": 4
}
