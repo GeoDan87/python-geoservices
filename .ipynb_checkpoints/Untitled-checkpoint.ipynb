{
 "cells": [
  {
   "cell_type": "code",
   "execution_count": 44,
   "metadata": {},
   "outputs": [],
   "source": [
    "from urllib.parse import quote\n",
    "import urllib3\n",
    "import bs4 as BeautifulSoup\n",
    "import requests\n",
    "import pandas as pd"
   ]
  },
  {
   "cell_type": "code",
   "execution_count": 10,
   "metadata": {},
   "outputs": [],
   "source": [
    "import geo_urls"
   ]
  },
  {
   "cell_type": "code",
   "execution_count": 11,
   "metadata": {},
   "outputs": [],
   "source": [
    "import checkers"
   ]
  },
  {
   "cell_type": "code",
   "execution_count": 12,
   "metadata": {},
   "outputs": [],
   "source": [
    "from geoservice import *"
   ]
  },
  {
   "cell_type": "code",
   "execution_count": 13,
   "metadata": {},
   "outputs": [
    {
     "data": {
      "text/plain": [
       "'https://geoservice.planning.nyc.gov/geoservice/geoservice.svc/Function_1A?'"
      ]
     },
     "execution_count": 13,
     "metadata": {},
     "output_type": "execute_result"
    }
   ],
   "source": [
    "checkers.get_fun_url('1A')"
   ]
  },
  {
   "cell_type": "code",
   "execution_count": 14,
   "metadata": {},
   "outputs": [
    {
     "data": {
      "text/plain": [
       "[[{'Type': 'Address',\n",
       "   'Description': 'Given a valid address, provides property-level information.',\n",
       "   'Geosupport Function': '1A'},\n",
       "  {'Type': 'Address',\n",
       "   'Description': 'Given a valid address, provides blockface-level, property-level, and political information.',\n",
       "   'Geosupport Function': '1B'},\n",
       "  {'Type': 'Address',\n",
       "   'Description': 'Given a valid address, provides blockface-level and political information.',\n",
       "   'Geosupport Function': '1E'},\n",
       "  {'Type': 'Address',\n",
       "   'Description': 'Given a valid address, provides geographical information. Function AP only recognizes posted addresses.',\n",
       "   'Geosupport Function': 'AP'},\n",
       "  {'Type': 'Intersection',\n",
       "   'Description': 'Given a valid borough and cross streets returns information for the point defined by the two streets.',\n",
       "   'Geosupport Function': '2'},\n",
       "  {'Type': 'Street',\n",
       "   'Description': 'Given a valid borough, \"on street\" and cross streets provides blockface-level information.',\n",
       "   'Geosupport Function': '3'},\n",
       "  {'Type': 'Street Stretch',\n",
       "   'Description': 'Given a valid borough, \"on street\" and optional cross streets, provides a list of cross streets and their information.',\n",
       "   'Geosupport Function': '3S'},\n",
       "  {'Type': 'BBL',\n",
       "   'Description': 'Given a valid borough, block, and lot provides property-level information.',\n",
       "   'Geosupport Function': 'BL'},\n",
       "  {'Type': 'BIN',\n",
       "   'Description': 'Given a valid building identification number provides property-level information.',\n",
       "   'Geosupport Function': 'BN'},\n",
       "  {'Type': 'Name/Code',\n",
       "   'Description': 'Given a borough and street name, provides B10SC and street information',\n",
       "   'Geosupport Function': '1N'},\n",
       "  {'Type': 'Name/Code',\n",
       "   'Description': 'Given a B5SC, or B7SC, or B10SC, returns associated street name and B10SC. If B5SC is entered, the Primary street name is returned, along with its B10SC. If B7SC is entered, the Principal street name is returned, along with its B10SC.',\n",
       "   'Geosupport Function': 'D'},\n",
       "  {'Type': 'Name/Code',\n",
       "   'Description': 'Given a borough and a street name, returns that street name with its B10SC code, as well as the next nine street names alphabetically from the Street Name Dictionary.',\n",
       "   'Geosupport Function': 'BF'},\n",
       "  {'Type': 'Normalize Inputs',\n",
       "   'Description': 'Given a street name, provides the normalized format for that street name',\n",
       "   'Geosupport Function': 'N'},\n",
       "  {'Type': 'Normalize Inputs',\n",
       "   'Description': 'Given an address number, provides the normalized format for that address number',\n",
       "   'Geosupport Function': '1L'}],\n",
       " [{'Function': '1A',\n",
       "   'Example': 'https://geoservice.planning.nyc.gov/geoservice/geoservice.svc/Function_1A?Borough=1&AddressNo=120&StreetName=bwy&Key=Key'},\n",
       "  {'Function': '1B',\n",
       "   'Example': 'https://geoservice.planning.nyc.gov/geoservice/geoservice.svc/Function_1B?Borough=1&AddressNo=120&StreetName=bwy&Key=Key'},\n",
       "  {'Function': '1E',\n",
       "   'Example': 'https://geoservice.planning.nyc.gov/geoservice/geoservice.svc/Function_1E?Borough=1&AddressNo=120&StreetName=bwy&Key=Key'},\n",
       "  {'Function': 'AP',\n",
       "   'Example': 'https://geoservice.planning.nyc.gov/geoservice/geoservice.svc/Function_AP?Borough=1&AddressNo=120&StreetName=bwy&Key=Key'},\n",
       "  {'Function': '2',\n",
       "   'Example': 'https://geoservice.planning.nyc.gov/geoservice/geoservice.svc/Function_2?Borough1=1&Street1=bwy&Borough2=1&Street2=cedar&key=Key'},\n",
       "  {'Function': '3',\n",
       "   'Example': 'https://geoservice.planning.nyc.gov/geoservice/geoservice.svc/Function_3?Borough1=1&OnStreet=bwy&SecondCrossStreet=cedar&Borough2=1&FirstCrossStreet=thames&Borough3=1&key=Key'},\n",
       "  {'Function': '3S',\n",
       "   'Example': 'https://geoservice.planning.nyc.gov/geoservice/geoservice.svc/Function_3S?Borough=1&OnStreet=BWY&FirstCrossStreet=Cedar&SecondCrossStreet=thames&key=Key'},\n",
       "  {'Function': 'BL',\n",
       "   'Example': 'https://geoservice.planning.nyc.gov/geoservice/geoservice.svc/Function_BBL?Borough=1&Block=47&Lot=7501&key=Key'},\n",
       "  {'Function': 'BN',\n",
       "   'Example': 'https://geoservice.planning.nyc.gov/geoservice/geoservice.svc/Function_BIN?BIN=1001026&key=Key'},\n",
       "  {'Function': '1N',\n",
       "   'Example': 'https://geoservice.planning.nyc.gov/geoservice/geoservice.svc/Function_1N?Borough=1&StreetName=bwy&key=Key'},\n",
       "  {'Function': 'D',\n",
       "   'Example': 'https://geoservice.planning.nyc.gov/geoservice/geoservice.svc/Function_D?B10sc1=11361001&key=Key'},\n",
       "  {'Function': 'BF',\n",
       "   'Example': 'https://geoservice.planning.nyc.gov/geoservice/geoservice.svc/Function_BF?Borough=1&StreetName=bwy&key=Key'},\n",
       "  {'Function': 'N',\n",
       "   'Example': 'https://geoservice.planning.nyc.gov/geoservice/geoservice.svc/Function_N?StreetName=bwy&key=Key'},\n",
       "  {'Function': '1L',\n",
       "   'Example': 'https://geoservice.planning.nyc.gov/geoservice/geoservice.svc/Function_1L?AddressNo=120&key=Key'}]]"
      ]
     },
     "execution_count": 14,
     "metadata": {},
     "output_type": "execute_result"
    }
   ],
   "source": [
    "get_fun_info()"
   ]
  },
  {
   "cell_type": "code",
   "execution_count": 15,
   "metadata": {},
   "outputs": [
    {
     "name": "stdout",
     "output_type": "stream",
     "text": [
      "Given a valid address, provides blockface-level, property-level, and political information.\n"
     ]
    }
   ],
   "source": [
    "get_fun_desc('1B')"
   ]
  },
  {
   "cell_type": "markdown",
   "metadata": {},
   "source": [
    "### Get the valid functions"
   ]
  },
  {
   "cell_type": "code",
   "execution_count": 16,
   "metadata": {},
   "outputs": [
    {
     "data": {
      "text/plain": [
       "'1A'"
      ]
     },
     "execution_count": 16,
     "metadata": {},
     "output_type": "execute_result"
    }
   ],
   "source": [
    "check_fun(\"1A\")"
   ]
  },
  {
   "cell_type": "markdown",
   "metadata": {},
   "source": [
    "### Get the function calls dict"
   ]
  },
  {
   "cell_type": "code",
   "execution_count": 17,
   "metadata": {},
   "outputs": [
    {
     "data": {
      "text/plain": [
       "'https://geoservice.planning.nyc.gov/geoservice/geoservice.svc/Function_N?'"
      ]
     },
     "execution_count": 17,
     "metadata": {},
     "output_type": "execute_result"
    }
   ],
   "source": [
    "get_fun_url('N')"
   ]
  },
  {
   "cell_type": "code",
   "execution_count": 18,
   "metadata": {},
   "outputs": [
    {
     "data": {
      "text/plain": [
       "{'3': ['Borough1',\n",
       "  'OnStreet',\n",
       "  'SecondCrossStreet',\n",
       "  'Borough2',\n",
       "  'FirstCrossStreet',\n",
       "  'Borough3',\n",
       "  'key']}"
      ]
     },
     "execution_count": 18,
     "metadata": {},
     "output_type": "execute_result"
    }
   ],
   "source": [
    "get_fun_args('3')"
   ]
  },
  {
   "cell_type": "code",
   "execution_count": 19,
   "metadata": {},
   "outputs": [
    {
     "data": {
      "text/plain": [
       "{'Borough': '', 'AddressNo': '', 'StreetName': '', 'Key': ''}"
      ]
     },
     "execution_count": 19,
     "metadata": {},
     "output_type": "execute_result"
    }
   ],
   "source": [
    "get_arg_dict('1A')"
   ]
  },
  {
   "cell_type": "markdown",
   "metadata": {},
   "source": [
    "### Get the function errors"
   ]
  },
  {
   "cell_type": "code",
   "execution_count": 20,
   "metadata": {},
   "outputs": [],
   "source": [
    "def get_err_info():\n",
    "    url = urls.doc_url\n",
    "    url = quote(url, safe = ':/?&=')\n",
    "    \n",
    "    try:\n",
    "        doc = requests.get(url).text\n",
    "    except:       \n",
    "        print('exception!')\n",
    "        \n",
    "    content = BeautifulSoup.BeautifulSoup(doc, 'html.parser')\n",
    "    table = content.find_all('table')\n",
    "    df_list = [pd.read_html(str(t))[0] for t in table]\n",
    "    #dict_list = [d.to_dict(orient = 'records') for d in df_list]\n",
    "    return df_list#dict_list"
   ]
  },
  {
   "cell_type": "code",
   "execution_count": 21,
   "metadata": {},
   "outputs": [
    {
     "ename": "NameError",
     "evalue": "name 'urls' is not defined",
     "output_type": "error",
     "traceback": [
      "\u001b[1;31m---------------------------------------------------------------------------\u001b[0m",
      "\u001b[1;31mNameError\u001b[0m                                 Traceback (most recent call last)",
      "\u001b[1;32m<ipython-input-21-2f3257ba8c0e>\u001b[0m in \u001b[0;36m<module>\u001b[1;34m\u001b[0m\n\u001b[1;32m----> 1\u001b[1;33m \u001b[0merrs\u001b[0m \u001b[1;33m=\u001b[0m \u001b[0mget_err_info\u001b[0m\u001b[1;33m(\u001b[0m\u001b[1;33m)\u001b[0m\u001b[1;33m\u001b[0m\u001b[1;33m\u001b[0m\u001b[0m\n\u001b[0m",
      "\u001b[1;32m<ipython-input-20-c8d1380d966b>\u001b[0m in \u001b[0;36mget_err_info\u001b[1;34m()\u001b[0m\n\u001b[0;32m      1\u001b[0m \u001b[1;32mdef\u001b[0m \u001b[0mget_err_info\u001b[0m\u001b[1;33m(\u001b[0m\u001b[1;33m)\u001b[0m\u001b[1;33m:\u001b[0m\u001b[1;33m\u001b[0m\u001b[1;33m\u001b[0m\u001b[0m\n\u001b[1;32m----> 2\u001b[1;33m     \u001b[0murl\u001b[0m \u001b[1;33m=\u001b[0m \u001b[0murls\u001b[0m\u001b[1;33m.\u001b[0m\u001b[0mdoc_url\u001b[0m\u001b[1;33m\u001b[0m\u001b[1;33m\u001b[0m\u001b[0m\n\u001b[0m\u001b[0;32m      3\u001b[0m     \u001b[0murl\u001b[0m \u001b[1;33m=\u001b[0m \u001b[0mquote\u001b[0m\u001b[1;33m(\u001b[0m\u001b[0murl\u001b[0m\u001b[1;33m,\u001b[0m \u001b[0msafe\u001b[0m \u001b[1;33m=\u001b[0m \u001b[1;34m':/?&='\u001b[0m\u001b[1;33m)\u001b[0m\u001b[1;33m\u001b[0m\u001b[1;33m\u001b[0m\u001b[0m\n\u001b[0;32m      4\u001b[0m \u001b[1;33m\u001b[0m\u001b[0m\n\u001b[0;32m      5\u001b[0m     \u001b[1;32mtry\u001b[0m\u001b[1;33m:\u001b[0m\u001b[1;33m\u001b[0m\u001b[1;33m\u001b[0m\u001b[0m\n",
      "\u001b[1;31mNameError\u001b[0m: name 'urls' is not defined"
     ]
    }
   ],
   "source": [
    "errs = get_err_info()"
   ]
  },
  {
   "cell_type": "code",
   "execution_count": null,
   "metadata": {},
   "outputs": [],
   "source": [
    "errs[1].columns"
   ]
  },
  {
   "cell_type": "code",
   "execution_count": null,
   "metadata": {},
   "outputs": [],
   "source": [
    "import re\n",
    "f = re.compile('Reason')"
   ]
  },
  {
   "cell_type": "code",
   "execution_count": null,
   "metadata": {},
   "outputs": [],
   "source": [
    "re.search(f, ('Selected Geosupport Return Codes', 'GRC / Reason Code Value'))"
   ]
  },
  {
   "cell_type": "code",
   "execution_count": null,
   "metadata": {},
   "outputs": [],
   "source": [
    "for e in errs:\n",
    "    for d in e:\n",
    "        for k in list(d.keys()):\n",
    "            if k in ['GRC Value/ Reason Code Value']:\n",
    "                print(d)"
   ]
  },
  {
   "cell_type": "code",
   "execution_count": null,
   "metadata": {},
   "outputs": [],
   "source": [
    "l = ['GRC Value/ Reason Code Value', 2]"
   ]
  },
  {
   "cell_type": "code",
   "execution_count": null,
   "metadata": {},
   "outputs": [],
   "source": [
    "for i in l:\n",
    "    if i in 'GRC Value/ Reason Code Value':\n",
    "        print(i)"
   ]
  },
  {
   "cell_type": "markdown",
   "metadata": {},
   "source": [
    "### Validate if functions can be chained together"
   ]
  },
  {
   "cell_type": "code",
   "execution_count": null,
   "metadata": {},
   "outputs": [],
   "source": [
    "def get_all_chains():\n",
    "    #Create a dictionary for function chaining validation\n",
    "    chain_dict = {'1A': ['1B', '1E', '1L', '1N', 'AP', 'BL', 'BN', 'D', 'N'],\n",
    "                  '1B': ['1A', '1E', '1L', '1N', 'AP', 'BL', 'BN', 'D', 'N'],\n",
    "                  '1E': ['1A', '1B', '1L', '1N', 'AP', 'BL', 'BN', 'D', 'N'],\n",
    "                  'AP': ['1A', '1B', '1E', '1L', '1N', 'BL', 'BN', 'D', 'N'],\n",
    "                  '2': [None],\n",
    "                  '3': [None],\n",
    "                  '3S': [],\n",
    "                  'BL': ['1A', '1B', '1E', '1L', '1N', 'AP', 'BN', 'D', 'N'],\n",
    "                  'BN': ['1A', '1B', '1E', '1L', '1N', 'AP', 'BL', 'D', 'N'],\n",
    "                  '1N': [],\n",
    "                  'D': [],\n",
    "                  'N': ['1A', '1B', '1E', '1L', '1N', 'AP', 'BL', 'BL', 'D'],\n",
    "                  '1L': ['1A', '1B', '1E', '1N', 'AP', 'BL', 'BN', 'D', 'N'],\n",
    "                  'BF': ['D']}\n",
    " \n",
    "    return chain_dict"
   ]
  },
  {
   "cell_type": "code",
   "execution_count": null,
   "metadata": {},
   "outputs": [],
   "source": [
    "get_all_chains()"
   ]
  },
  {
   "cell_type": "code",
   "execution_count": null,
   "metadata": {},
   "outputs": [],
   "source": [
    "def get_valid_chains(fun):\n",
    "    valid_chain = get_all_chains()[fun]\n",
    "    return valid_chain"
   ]
  },
  {
   "cell_type": "code",
   "execution_count": null,
   "metadata": {},
   "outputs": [],
   "source": [
    "def is_chain_valid(fun, next_fun):\n",
    "    if next_fun in get_valid_chains(fun):\n",
    "        #print(next_fun)\n",
    "        pass\n",
    "    else:\n",
    "        raise ValueError('Geoservice function {} is not a valid function to chain to function {}!'.format(next_fun, fun))"
   ]
  },
  {
   "cell_type": "code",
   "execution_count": null,
   "metadata": {},
   "outputs": [],
   "source": [
    "is_chain_valid('1B', '1A')"
   ]
  },
  {
   "cell_type": "markdown",
   "metadata": {},
   "source": [
    "### Output Mapper"
   ]
  },
  {
   "cell_type": "code",
   "execution_count": null,
   "metadata": {},
   "outputs": [],
   "source": [
    "#Map function outputs to function inputs for functions that are being chained together"
   ]
  },
  {
   "cell_type": "markdown",
   "metadata": {},
   "source": [
    "### Setup and get"
   ]
  },
  {
   "cell_type": "markdown",
   "metadata": {},
   "source": [
    "What is the pool manager? Does this need to be a separate function?"
   ]
  },
  {
   "cell_type": "code",
   "execution_count": null,
   "metadata": {},
   "outputs": [],
   "source": [
    "def service_get(url)\n",
    "    #Feed in the url with the BIN and the API Key and read the results\n",
    "    http = urllib3.PoolManager()\n",
    "    response = http.request('GET', url)"
   ]
  },
  {
   "cell_type": "markdown",
   "metadata": {},
   "source": [
    "### Create the function for calling geoservice"
   ]
  },
  {
   "cell_type": "code",
   "execution_count": 24,
   "metadata": {},
   "outputs": [],
   "source": [
    "x = geoservice(funs = '1A', Borough = '1', AddressNo = '830', StreetName = 'Fifth Ave', Key = 'SampleKey')"
   ]
  },
  {
   "cell_type": "code",
   "execution_count": 28,
   "metadata": {},
   "outputs": [
    {
     "data": {
      "text/plain": [
       "'https://geoservice.planning.nyc.gov/geoservice/geoservice.svc/Function_1A?Borough=1&AddressNo=830&StreetName=Fifth%20Ave&Key=SampleKey'"
      ]
     },
     "execution_count": 28,
     "metadata": {},
     "output_type": "execute_result"
    }
   ],
   "source": [
    "construct_args_url(fun = '1A', Borough = '1', AddressNo = '830', StreetName = 'Fifth Ave', Key = 'SampleKey')"
   ]
  },
  {
   "cell_type": "code",
   "execution_count": 22,
   "metadata": {},
   "outputs": [
    {
     "ename": "TypeError",
     "evalue": "Not all required arguments supplied. Missing: Borough1, SecondCrossStreet, OnStreet, key, Borough3, FirstCrossStreet, Borough2.",
     "output_type": "error",
     "traceback": [
      "\u001b[1;31m---------------------------------------------------------------------------\u001b[0m",
      "\u001b[1;31mTypeError\u001b[0m                                 Traceback (most recent call last)",
      "\u001b[1;32m<ipython-input-22-2c3046e33ff8>\u001b[0m in \u001b[0;36m<module>\u001b[1;34m\u001b[0m\n\u001b[1;32m----> 1\u001b[1;33m \u001b[0mgeoservice\u001b[0m\u001b[1;33m(\u001b[0m\u001b[0mfuns\u001b[0m \u001b[1;33m=\u001b[0m \u001b[1;34m'3'\u001b[0m\u001b[1;33m,\u001b[0m \u001b[0mBorough\u001b[0m \u001b[1;33m=\u001b[0m \u001b[1;34m'1'\u001b[0m\u001b[1;33m,\u001b[0m \u001b[0mAddressNo\u001b[0m \u001b[1;33m=\u001b[0m \u001b[1;34m'830'\u001b[0m\u001b[1;33m,\u001b[0m \u001b[0mStreetName\u001b[0m \u001b[1;33m=\u001b[0m \u001b[1;34m'Fifth Ave'\u001b[0m\u001b[1;33m)\u001b[0m\u001b[1;33m\u001b[0m\u001b[1;33m\u001b[0m\u001b[0m\n\u001b[0m",
      "\u001b[1;32mC:\\Projects\\geoservices\\geoservice.py\u001b[0m in \u001b[0;36mgeoservice\u001b[1;34m(funs, **fun_args)\u001b[0m\n\u001b[0;32m     15\u001b[0m \u001b[1;33m\u001b[0m\u001b[0m\n\u001b[0;32m     16\u001b[0m     \u001b[1;31m#Check the arguments of the function, unpack the keyword arguments\u001b[0m\u001b[1;33m\u001b[0m\u001b[1;33m\u001b[0m\u001b[1;33m\u001b[0m\u001b[0m\n\u001b[1;32m---> 17\u001b[1;33m     \u001b[0murl\u001b[0m \u001b[1;33m=\u001b[0m \u001b[0mconstruct_args_url\u001b[0m\u001b[1;33m(\u001b[0m\u001b[0mfun\u001b[0m \u001b[1;33m=\u001b[0m \u001b[0mfuns\u001b[0m\u001b[1;33m,\u001b[0m \u001b[1;33m**\u001b[0m\u001b[0mfun_args\u001b[0m\u001b[1;33m)\u001b[0m\u001b[1;33m\u001b[0m\u001b[1;33m\u001b[0m\u001b[0m\n\u001b[0m",
      "\u001b[1;32mC:\\Projects\\geoservices\\checkers.py\u001b[0m in \u001b[0;36mconstruct_args_url\u001b[1;34m(fun, **fun_args)\u001b[0m\n\u001b[0;32m     80\u001b[0m \u001b[1;31m#Create the function that gets the quoted and safe URL with arguments for the geoservice call\u001b[0m\u001b[1;33m\u001b[0m\u001b[1;33m\u001b[0m\u001b[1;33m\u001b[0m\u001b[0m\n\u001b[0;32m     81\u001b[0m \u001b[1;32mdef\u001b[0m \u001b[0mconstruct_args_url\u001b[0m\u001b[1;33m(\u001b[0m\u001b[0mfun\u001b[0m\u001b[1;33m,\u001b[0m \u001b[1;33m**\u001b[0m\u001b[0mfun_args\u001b[0m\u001b[1;33m)\u001b[0m\u001b[1;33m:\u001b[0m\u001b[1;33m\u001b[0m\u001b[1;33m\u001b[0m\u001b[0m\n\u001b[1;32m---> 82\u001b[1;33m         \u001b[0mcheck_fun_args\u001b[0m\u001b[1;33m(\u001b[0m\u001b[0mfun\u001b[0m\u001b[1;33m,\u001b[0m \u001b[1;33m**\u001b[0m\u001b[0mfun_args\u001b[0m\u001b[1;33m)\u001b[0m\u001b[1;33m\u001b[0m\u001b[1;33m\u001b[0m\u001b[0m\n\u001b[0m\u001b[0;32m     83\u001b[0m \u001b[1;33m\u001b[0m\u001b[0m\n\u001b[0;32m     84\u001b[0m         \u001b[0margs_url\u001b[0m \u001b[1;33m=\u001b[0m \u001b[1;34m'&'\u001b[0m\u001b[1;33m.\u001b[0m\u001b[0mjoin\u001b[0m\u001b[1;33m(\u001b[0m\u001b[1;33m[\u001b[0m\u001b[0mstr\u001b[0m\u001b[1;33m(\u001b[0m\u001b[0mk\u001b[0m\u001b[1;33m)\u001b[0m \u001b[1;33m+\u001b[0m \u001b[1;34m'='\u001b[0m \u001b[1;33m+\u001b[0m \u001b[0mstr\u001b[0m\u001b[1;33m(\u001b[0m\u001b[0mv\u001b[0m\u001b[1;33m)\u001b[0m \u001b[1;32mfor\u001b[0m \u001b[0mk\u001b[0m\u001b[1;33m,\u001b[0m\u001b[0mv\u001b[0m \u001b[1;32min\u001b[0m \u001b[0mfun_args\u001b[0m\u001b[1;33m.\u001b[0m\u001b[0mitems\u001b[0m\u001b[1;33m(\u001b[0m\u001b[1;33m)\u001b[0m\u001b[1;33m]\u001b[0m\u001b[1;33m)\u001b[0m\u001b[1;33m\u001b[0m\u001b[1;33m\u001b[0m\u001b[0m\n",
      "\u001b[1;32mC:\\Projects\\geoservices\\checkers.py\u001b[0m in \u001b[0;36mcheck_fun_args\u001b[1;34m(fun, **fun_args)\u001b[0m\n\u001b[0;32m     76\u001b[0m     \u001b[1;32mif\u001b[0m \u001b[0mlen\u001b[0m\u001b[1;33m(\u001b[0m\u001b[0marg_diff\u001b[0m\u001b[1;33m)\u001b[0m \u001b[1;33m>\u001b[0m \u001b[1;36m0\u001b[0m\u001b[1;33m:\u001b[0m\u001b[1;33m\u001b[0m\u001b[1;33m\u001b[0m\u001b[0m\n\u001b[0;32m     77\u001b[0m         \u001b[0mmissing_args\u001b[0m \u001b[1;33m=\u001b[0m \u001b[1;34m', '\u001b[0m\u001b[1;33m.\u001b[0m\u001b[0mjoin\u001b[0m\u001b[1;33m(\u001b[0m\u001b[1;33m[\u001b[0m\u001b[0md\u001b[0m \u001b[1;32mfor\u001b[0m \u001b[0md\u001b[0m \u001b[1;32min\u001b[0m \u001b[0marg_diff\u001b[0m\u001b[1;33m]\u001b[0m\u001b[1;33m)\u001b[0m\u001b[1;33m\u001b[0m\u001b[1;33m\u001b[0m\u001b[0m\n\u001b[1;32m---> 78\u001b[1;33m         \u001b[1;32mraise\u001b[0m \u001b[0mTypeError\u001b[0m\u001b[1;33m(\u001b[0m\u001b[1;34m'Not all required arguments supplied. Missing: {}.'\u001b[0m\u001b[1;33m.\u001b[0m\u001b[0mformat\u001b[0m\u001b[1;33m(\u001b[0m\u001b[0mmissing_args\u001b[0m\u001b[1;33m)\u001b[0m\u001b[1;33m)\u001b[0m\u001b[1;33m\u001b[0m\u001b[1;33m\u001b[0m\u001b[0m\n\u001b[0m\u001b[0;32m     79\u001b[0m \u001b[1;33m\u001b[0m\u001b[0m\n\u001b[0;32m     80\u001b[0m \u001b[1;31m#Create the function that gets the quoted and safe URL with arguments for the geoservice call\u001b[0m\u001b[1;33m\u001b[0m\u001b[1;33m\u001b[0m\u001b[1;33m\u001b[0m\u001b[0m\n",
      "\u001b[1;31mTypeError\u001b[0m: Not all required arguments supplied. Missing: Borough1, SecondCrossStreet, OnStreet, key, Borough3, FirstCrossStreet, Borough2."
     ]
    }
   ],
   "source": [
    "geoservice(funs = '3', Borough = '1', AddressNo = '830', StreetName = 'Fifth Ave')"
   ]
  },
  {
   "cell_type": "code",
   "execution_count": null,
   "metadata": {},
   "outputs": [],
   "source": [
    "https://geoservice.planning.nyc.gov/Function1A"
   ]
  },
  {
   "cell_type": "markdown",
   "metadata": {},
   "source": [
    "### Use bs4 and regex to get output keys"
   ]
  },
  {
   "cell_type": "code",
   "execution_count": 101,
   "metadata": {},
   "outputs": [],
   "source": [
    "def get_fun_response():\n",
    "    url = 'https://geoservice.planning.nyc.gov/FunctionBIN'\n",
    "    url = quote(url, safe = ':/?&=')\n",
    "    print(url)\n",
    "    doc = requests.get(url).text\n",
    "    return doc"
   ]
  },
  {
   "cell_type": "code",
   "execution_count": 102,
   "metadata": {},
   "outputs": [
    {
     "name": "stdout",
     "output_type": "stream",
     "text": [
      "https://geoservice.planning.nyc.gov/FunctionBIN\n"
     ]
    }
   ],
   "source": [
    "x = get_fun_response()"
   ]
  },
  {
   "cell_type": "code",
   "execution_count": 103,
   "metadata": {},
   "outputs": [],
   "source": [
    "soup = BeautifulSoup.BeautifulSoup(x, 'html.parser')"
   ]
  },
  {
   "cell_type": "code",
   "execution_count": 104,
   "metadata": {},
   "outputs": [],
   "source": [
    "import re\n",
    "import json"
   ]
  },
  {
   "cell_type": "code",
   "execution_count": 105,
   "metadata": {},
   "outputs": [
    {
     "name": "stdout",
     "output_type": "stream",
     "text": [
      "dict_keys(['AddressRangeKeys', 'AddressRangeList', 'in_bin', 'in_func_code', 'out_TPAD_bin', 'out_TPAD_bin_status', 'out_TPAD_conflict_flag', 'out_bbl', 'out_bbl_block', 'out_bbl_boro', 'out_bbl_lot', 'out_bid', 'out_bin', 'out_bin_status', 'out_boro_name1', 'out_condo_flag', 'out_condo_num', 'out_coop_num', 'out_corner_code', 'out_dcp_zoning_map', 'out_error_message', 'out_grc', 'out_high_bbl_condo', 'out_interior_flag', 'out_irreg_flag', 'out_lat_property', 'out_lon_property', 'out_low_bbl_condo', 'out_num_of_bldgs', 'out_num_of_blockfaces', 'out_reason_code', 'out_rpad_bldg_class', 'out_rpad_scc', 'out_sanborn_boro', 'out_sanborn_page', 'out_sanborn_volume', 'out_stname1', 'out_tax_map', 'out_tax_section', 'out_tax_volume', 'out_vacant_flag', 'out_x_coord_property', 'out_y_coord_property'])\n"
     ]
    }
   ],
   "source": [
    "for s in soup.find_all('script'):\n",
    "    re_start = re.compile('{\"display\":')\n",
    "    re_end = re.compile('\"root\":null}')\n",
    "    \n",
    "    dict_start = re.search(re_start, str(s))\n",
    "    if dict_start is not None:\n",
    "        #print(s)\n",
    "        dict_end = re.search(re_end, str(s))\n",
    "        get_dict = str(s)[dict_start.start():dict_end.end()]\n",
    "        print(json.loads(get_dict)['display'].keys())"
   ]
  }
 ],
 "metadata": {
  "kernelspec": {
   "display_name": "Python 3",
   "language": "python",
   "name": "python3"
  },
  "language_info": {
   "codemirror_mode": {
    "name": "ipython",
    "version": 3
   },
   "file_extension": ".py",
   "mimetype": "text/x-python",
   "name": "python",
   "nbconvert_exporter": "python",
   "pygments_lexer": "ipython3",
   "version": "3.8.5"
  }
 },
 "nbformat": 4,
 "nbformat_minor": 4
}
