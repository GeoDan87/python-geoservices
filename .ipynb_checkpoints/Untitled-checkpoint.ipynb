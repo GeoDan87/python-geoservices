{
 "cells": [
  {
   "cell_type": "code",
   "execution_count": 1,
   "metadata": {},
   "outputs": [],
   "source": [
    "from urllib.parse import quote\n",
    "import urllib3\n",
    "import bs4 as BeautifulSoup\n",
    "import requests\n",
    "import pandas as pd"
   ]
  },
  {
   "cell_type": "code",
   "execution_count": 2,
   "metadata": {},
   "outputs": [],
   "source": [
    "import urls"
   ]
  },
  {
   "cell_type": "code",
   "execution_count": 3,
   "metadata": {},
   "outputs": [],
   "source": [
    "def get_fun_info():\n",
    "    url = urls.base_url\n",
    "    url = quote(url, safe = ':/?&=')\n",
    "    \n",
    "    try:\n",
    "        doc = requests.get(url).text\n",
    "    except:       \n",
    "        print('exception!')\n",
    "        \n",
    "    content = BeautifulSoup.BeautifulSoup(doc, 'html.parser')\n",
    "    table = content.find_all('table')\n",
    "    df_list = [pd.read_html(str(t))[0] for t in table]\n",
    "    dict_list = [d.to_dict(orient = 'records') for d in df_list]\n",
    "    return dict_list"
   ]
  },
  {
   "cell_type": "code",
   "execution_count": 4,
   "metadata": {},
   "outputs": [
    {
     "data": {
      "text/plain": [
       "[[{'Type': 'Address',\n",
       "   'Description': 'Given a valid address, provides property-level information.',\n",
       "   'Geosupport Function': '1A'},\n",
       "  {'Type': 'Address',\n",
       "   'Description': 'Given a valid address, provides blockface-level, property-level, and political information.',\n",
       "   'Geosupport Function': '1B'},\n",
       "  {'Type': 'Address',\n",
       "   'Description': 'Given a valid address, provides blockface-level and political information.',\n",
       "   'Geosupport Function': '1E'},\n",
       "  {'Type': 'Address',\n",
       "   'Description': 'Given a valid address, provides geographical information. Function AP only recognizes posted addresses.',\n",
       "   'Geosupport Function': 'AP'},\n",
       "  {'Type': 'Intersection',\n",
       "   'Description': 'Given a valid borough and cross streets returns information for the point defined by the two streets.',\n",
       "   'Geosupport Function': '2'},\n",
       "  {'Type': 'Street',\n",
       "   'Description': 'Given a valid borough, \"on street\" and cross streets provides blockface-level information.',\n",
       "   'Geosupport Function': '3'},\n",
       "  {'Type': 'Street Stretch',\n",
       "   'Description': 'Given a valid borough, \"on street\" and optional cross streets, provides a list of cross streets and their information.',\n",
       "   'Geosupport Function': '3S'},\n",
       "  {'Type': 'BBL',\n",
       "   'Description': 'Given a valid borough, block, and lot provides property-level information.',\n",
       "   'Geosupport Function': 'BL'},\n",
       "  {'Type': 'BIN',\n",
       "   'Description': 'Given a valid building identification number provides property-level information.',\n",
       "   'Geosupport Function': 'BN'},\n",
       "  {'Type': 'Name/Code',\n",
       "   'Description': 'Given a borough and street name, provides B10SC and street information',\n",
       "   'Geosupport Function': '1N'},\n",
       "  {'Type': 'Name/Code',\n",
       "   'Description': 'Given a B5SC, or B7SC, or B10SC, returns associated street name and B10SC. If B5SC is entered, the Primary street name is returned, along with its B10SC. If B7SC is entered, the Principal street name is returned, along with its B10SC.',\n",
       "   'Geosupport Function': 'D'},\n",
       "  {'Type': 'Name/Code',\n",
       "   'Description': 'Given a borough and a street name, returns that street name with its B10SC code, as well as the next nine street names alphabetically from the Street Name Dictionary.',\n",
       "   'Geosupport Function': 'BF'},\n",
       "  {'Type': 'Normalize Inputs',\n",
       "   'Description': 'Given a street name, provides the normalized format for that street name',\n",
       "   'Geosupport Function': 'N'},\n",
       "  {'Type': 'Normalize Inputs',\n",
       "   'Description': 'Given an address number, provides the normalized format for that address number',\n",
       "   'Geosupport Function': '1L'}],\n",
       " [{'Function': '1A',\n",
       "   'Example': 'https://geoservice.planning.nyc.gov/geoservice/geoservice.svc/Function_1A?Borough=1&AddressNo=120&StreetName=bwy&Key=Key'},\n",
       "  {'Function': '1B',\n",
       "   'Example': 'https://geoservice.planning.nyc.gov/geoservice/geoservice.svc/Function_1B?Borough=1&AddressNo=120&StreetName=bwy&Key=Key'},\n",
       "  {'Function': '1E',\n",
       "   'Example': 'https://geoservice.planning.nyc.gov/geoservice/geoservice.svc/Function_1E?Borough=1&AddressNo=120&StreetName=bwy&Key=Key'},\n",
       "  {'Function': 'AP',\n",
       "   'Example': 'https://geoservice.planning.nyc.gov/geoservice/geoservice.svc/Function_AP?Borough=1&AddressNo=120&StreetName=bwy&Key=Key'},\n",
       "  {'Function': '2',\n",
       "   'Example': 'https://geoservice.planning.nyc.gov/geoservice/geoservice.svc/Function_2?Borough1=1&Street1=bwy&Borough2=1&Street2=cedar&key=Key'},\n",
       "  {'Function': '3',\n",
       "   'Example': 'https://geoservice.planning.nyc.gov/geoservice/geoservice.svc/Function_3?Borough1=1&OnStreet=bwy&SecondCrossStreet=cedar&Borough2=1&FirstCrossStreet=thames&Borough3=1&key=Key'},\n",
       "  {'Function': '3S',\n",
       "   'Example': 'https://geoservice.planning.nyc.gov/geoservice/geoservice.svc/Function_3S?Borough=1&OnStreet=BWY&FirstCrossStreet=Cedar&SecondCrossStreet=thames&key=Key'},\n",
       "  {'Function': 'BL',\n",
       "   'Example': 'https://geoservice.planning.nyc.gov/geoservice/geoservice.svc/Function_BBL?Borough=1&Block=47&Lot=7501&key=Key'},\n",
       "  {'Function': 'BN',\n",
       "   'Example': 'https://geoservice.planning.nyc.gov/geoservice/geoservice.svc/Function_BIN?BIN=1001026&key=Key'},\n",
       "  {'Function': '1N',\n",
       "   'Example': 'https://geoservice.planning.nyc.gov/geoservice/geoservice.svc/Function_1N?Borough=1&StreetName=bwy&key=Key'},\n",
       "  {'Function': 'D',\n",
       "   'Example': 'https://geoservice.planning.nyc.gov/geoservice/geoservice.svc/Function_D?B10sc1=11361001&key=Key'},\n",
       "  {'Function': 'BF',\n",
       "   'Example': 'https://geoservice.planning.nyc.gov/geoservice/geoservice.svc/Function_BF?Borough=1&StreetName=bwy&key=Key'},\n",
       "  {'Function': 'N',\n",
       "   'Example': 'https://geoservice.planning.nyc.gov/geoservice/geoservice.svc/Function_N?StreetName=bwy&key=Key'},\n",
       "  {'Function': '1L',\n",
       "   'Example': 'https://geoservice.planning.nyc.gov/geoservice/geoservice.svc/Function_1L?AddressNo=120&key=Key'}]]"
      ]
     },
     "execution_count": 4,
     "metadata": {},
     "output_type": "execute_result"
    }
   ],
   "source": [
    "get_fun_info()"
   ]
  },
  {
   "cell_type": "code",
   "execution_count": 120,
   "metadata": {},
   "outputs": [],
   "source": [
    "def get_fun_desc(fun):\n",
    "    fun_desc = [f.get('Description') for f in get_fun_info()[0] if fun in f.values()]\n",
    "    print(fun_desc[0])"
   ]
  },
  {
   "cell_type": "code",
   "execution_count": 121,
   "metadata": {},
   "outputs": [
    {
     "name": "stdout",
     "output_type": "stream",
     "text": [
      "Given a valid address, provides property-level information.\n"
     ]
    }
   ],
   "source": [
    "get_fun_desc('1A')"
   ]
  },
  {
   "cell_type": "markdown",
   "metadata": {},
   "source": [
    "### Get the valid functions"
   ]
  },
  {
   "cell_type": "code",
   "execution_count": 5,
   "metadata": {},
   "outputs": [],
   "source": [
    "def check_fun(fun):\n",
    "    funs = [f.get('Geosupport Function') for f in get_fun_info()[0]]\n",
    "    check = [f for f in funs if f in [fun]]\n",
    "    if len(check) > 0:\n",
    "        return check[0]\n",
    "    else:\n",
    "        raise ValueError('The function defined, {}, does not exist.'.format(fun))\n",
    "    #return funs"
   ]
  },
  {
   "cell_type": "code",
   "execution_count": 6,
   "metadata": {},
   "outputs": [
    {
     "data": {
      "text/plain": [
       "'1A'"
      ]
     },
     "execution_count": 6,
     "metadata": {},
     "output_type": "execute_result"
    }
   ],
   "source": [
    "check_fun(\"1A\")"
   ]
  },
  {
   "cell_type": "markdown",
   "metadata": {},
   "source": [
    "### Get the function calls dict"
   ]
  },
  {
   "cell_type": "code",
   "execution_count": 7,
   "metadata": {},
   "outputs": [],
   "source": [
    "def substr_url(url, key, oldvalue, newvalue):\n",
    "    url = url.get(key)\n",
    "    new_url = url.replace(oldvalue, newvalue)\n",
    "    return new_url"
   ]
  },
  {
   "cell_type": "code",
   "execution_count": 8,
   "metadata": {},
   "outputs": [],
   "source": [
    "def get_fun_url(fun):\n",
    "    funs = {u.get('Function'): urls.svc_url + substr_url(u, 'Example', urls.svc_url, '')[0:substr_url(u, 'Example', urls.svc_url, '').find('?')] + '?'.strip() for u in get_fun_info()[1]}\n",
    "    fun_url = funs.get(fun)\n",
    "    return fun_url"
   ]
  },
  {
   "cell_type": "code",
   "execution_count": 9,
   "metadata": {},
   "outputs": [
    {
     "data": {
      "text/plain": [
       "'https://geoservice.planning.nyc.gov/geoservice/geoservice.svc/Function_N?'"
      ]
     },
     "execution_count": 9,
     "metadata": {},
     "output_type": "execute_result"
    }
   ],
   "source": [
    "get_fun_url('N')"
   ]
  },
  {
   "cell_type": "markdown",
   "metadata": {},
   "source": [
    "### Get the function inputs"
   ]
  },
  {
   "cell_type": "code",
   "execution_count": 10,
   "metadata": {},
   "outputs": [],
   "source": [
    "def get_fun_args(fun):\n",
    "        oldvalue = get_fun_url(fun)\n",
    "        \n",
    "        funs = {u.get('Function'): substr_url(u, 'Example', oldvalue, '') for u in get_fun_info()[1] if u.get('Function') in [fun]}\n",
    "        \n",
    "        args = {fun: [i[0:i.find('=')] for i in str(funs.get(fun)).split('&')]}\n",
    "        return args"
   ]
  },
  {
   "cell_type": "code",
   "execution_count": 11,
   "metadata": {},
   "outputs": [
    {
     "data": {
      "text/plain": [
       "{'1A': ['Borough', 'AddressNo', 'StreetName', 'Key']}"
      ]
     },
     "execution_count": 11,
     "metadata": {},
     "output_type": "execute_result"
    }
   ],
   "source": [
    "get_fun_args('1A')"
   ]
  },
  {
   "cell_type": "code",
   "execution_count": 12,
   "metadata": {},
   "outputs": [],
   "source": [
    "def get_arg_dict(fun):\n",
    "    args = get_fun_args(fun).values()\n",
    "    args_dict = {k: '' for a in args for k in a}\n",
    "    return args_dict"
   ]
  },
  {
   "cell_type": "code",
   "execution_count": 13,
   "metadata": {},
   "outputs": [
    {
     "data": {
      "text/plain": [
       "{'Borough': '', 'AddressNo': '', 'StreetName': '', 'Key': ''}"
      ]
     },
     "execution_count": 13,
     "metadata": {},
     "output_type": "execute_result"
    }
   ],
   "source": [
    "get_arg_dict('1A')"
   ]
  },
  {
   "cell_type": "markdown",
   "metadata": {},
   "source": [
    "### Get the function errors"
   ]
  },
  {
   "cell_type": "code",
   "execution_count": 14,
   "metadata": {},
   "outputs": [],
   "source": [
    "def get_err_info():\n",
    "    url = urls.doc_url\n",
    "    url = quote(url, safe = ':/?&=')\n",
    "    \n",
    "    try:\n",
    "        doc = requests.get(url).text\n",
    "    except:       \n",
    "        print('exception!')\n",
    "        \n",
    "    content = BeautifulSoup.BeautifulSoup(doc, 'html.parser')\n",
    "    table = content.find_all('table')\n",
    "    df_list = [pd.read_html(str(t))[0] for t in table]\n",
    "    #dict_list = [d.to_dict(orient = 'records') for d in df_list]\n",
    "    return df_list#dict_list"
   ]
  },
  {
   "cell_type": "code",
   "execution_count": 15,
   "metadata": {},
   "outputs": [],
   "source": [
    "errs = get_err_info()"
   ]
  },
  {
   "cell_type": "code",
   "execution_count": 70,
   "metadata": {},
   "outputs": [
    {
     "data": {
      "text/plain": [
       "MultiIndex([('Function 1 Input Fields',    'Field'),\n",
       "            ('Function 1 Input Fields',    'Value'),\n",
       "            ('Function 1 Input Fields', 'Comments')],\n",
       "           )"
      ]
     },
     "execution_count": 70,
     "metadata": {},
     "output_type": "execute_result"
    }
   ],
   "source": [
    "errs[1].columns"
   ]
  },
  {
   "cell_type": "code",
   "execution_count": 57,
   "metadata": {},
   "outputs": [],
   "source": [
    "import re\n",
    "f = re.compile('Reason')"
   ]
  },
  {
   "cell_type": "code",
   "execution_count": 60,
   "metadata": {},
   "outputs": [
    {
     "ename": "TypeError",
     "evalue": "expected string or bytes-like object",
     "output_type": "error",
     "traceback": [
      "\u001b[1;31m---------------------------------------------------------------------------\u001b[0m",
      "\u001b[1;31mTypeError\u001b[0m                                 Traceback (most recent call last)",
      "\u001b[1;32m<ipython-input-60-f4ec10001271>\u001b[0m in \u001b[0;36m<module>\u001b[1;34m\u001b[0m\n\u001b[1;32m----> 1\u001b[1;33m \u001b[0mre\u001b[0m\u001b[1;33m.\u001b[0m\u001b[0msearch\u001b[0m\u001b[1;33m(\u001b[0m\u001b[0mf\u001b[0m\u001b[1;33m,\u001b[0m \u001b[1;33m(\u001b[0m\u001b[1;34m'Selected Geosupport Return Codes'\u001b[0m\u001b[1;33m,\u001b[0m \u001b[1;34m'GRC / Reason Code Value'\u001b[0m\u001b[1;33m)\u001b[0m\u001b[1;33m)\u001b[0m\u001b[1;33m\u001b[0m\u001b[1;33m\u001b[0m\u001b[0m\n\u001b[0m",
      "\u001b[1;32m~\\anaconda3\\lib\\re.py\u001b[0m in \u001b[0;36msearch\u001b[1;34m(pattern, string, flags)\u001b[0m\n\u001b[0;32m    199\u001b[0m     \"\"\"Scan through string looking for a match to the pattern, returning\n\u001b[0;32m    200\u001b[0m     a Match object, or None if no match was found.\"\"\"\n\u001b[1;32m--> 201\u001b[1;33m     \u001b[1;32mreturn\u001b[0m \u001b[0m_compile\u001b[0m\u001b[1;33m(\u001b[0m\u001b[0mpattern\u001b[0m\u001b[1;33m,\u001b[0m \u001b[0mflags\u001b[0m\u001b[1;33m)\u001b[0m\u001b[1;33m.\u001b[0m\u001b[0msearch\u001b[0m\u001b[1;33m(\u001b[0m\u001b[0mstring\u001b[0m\u001b[1;33m)\u001b[0m\u001b[1;33m\u001b[0m\u001b[1;33m\u001b[0m\u001b[0m\n\u001b[0m\u001b[0;32m    202\u001b[0m \u001b[1;33m\u001b[0m\u001b[0m\n\u001b[0;32m    203\u001b[0m \u001b[1;32mdef\u001b[0m \u001b[0msub\u001b[0m\u001b[1;33m(\u001b[0m\u001b[0mpattern\u001b[0m\u001b[1;33m,\u001b[0m \u001b[0mrepl\u001b[0m\u001b[1;33m,\u001b[0m \u001b[0mstring\u001b[0m\u001b[1;33m,\u001b[0m \u001b[0mcount\u001b[0m\u001b[1;33m=\u001b[0m\u001b[1;36m0\u001b[0m\u001b[1;33m,\u001b[0m \u001b[0mflags\u001b[0m\u001b[1;33m=\u001b[0m\u001b[1;36m0\u001b[0m\u001b[1;33m)\u001b[0m\u001b[1;33m:\u001b[0m\u001b[1;33m\u001b[0m\u001b[1;33m\u001b[0m\u001b[0m\n",
      "\u001b[1;31mTypeError\u001b[0m: expected string or bytes-like object"
     ]
    }
   ],
   "source": [
    "re.search(f, ('Selected Geosupport Return Codes', 'GRC / Reason Code Value'))"
   ]
  },
  {
   "cell_type": "code",
   "execution_count": 54,
   "metadata": {},
   "outputs": [
    {
     "name": "stdout",
     "output_type": "stream",
     "text": [
      "{'GRC Value/ Reason Code Value': '01/V', 'Meaning': '(Warning) The input was a vanity address, an addressable place name, or a NAP. This message returns the underlying address or street name when available'}\n",
      "{'GRC Value/ Reason Code Value': '01/P', 'Meaning': '(Warning) The street segment containing the input address is an irregular curve (i.e., it is curved but not as an arc of a circle). No values are returned in the WA2 Spatial Coordinate fields.'}\n",
      "{'GRC Value/ Reason Code Value': '07', 'Meaning': 'The input street was specified as a B5SC (or PB5SC) representing a NAP that is the name of a complex. Five-digit street code input is not permitted for the name of a complex. Either the NAP (the name of the complex) must be specified in the input street name field, or its B7SC or B10SC must be specified in the appropriate input street code field.'}\n",
      "{'GRC Value/ Reason Code Value': '28', 'Meaning': 'Partial Street name is not valid for free-form address'}\n",
      "{'GRC Value/ Reason Code Value': '29', 'Meaning': 'Intersection name cannot be used as ‘on’ Street.'}\n",
      "{'GRC Value/ Reason Code Value': '41', 'Meaning': 'The input street name is valid but this entire street has no addresses'}\n",
      "{'GRC Value/ Reason Code Value': '42', 'Meaning': 'The input address does not fall within a valid range of addresses for a blockface of the input street.'}\n",
      "{'GRC Value/ Reason Code Value': '50', 'Meaning': 'The input street name is not valid for the portion of the street where the input house number is located. See Chapter IV.5.'}\n",
      "{'GRC Value/ Reason Code Value': '75', 'Meaning': 'The input address is a ‘duplicate address’ - i.e., the same address exists at two different locations on the given input street. (Note: this is not a user data error, but an address that is duplicated on this street in reality.) See Chapter V.6.'}\n",
      "{'GRC Value/ Reason Code Value': '89', 'Meaning': 'Long workarea2 option is invalid for COW format for function 1. It is only valid for MSW for this function'}\n",
      "{'GRC Value/ Reason Code Value': '01/8', 'Meaning': '(Warning) Input address is a pseudo-address.'}\n",
      "{'GRC Value/ Reason Code Value': '01/A', 'Meaning': '(Warning) Function 1A has been called with the regular WA2, but the tax lot identified by the input address or NAP has the List of Geographic Identifiers (LGI) overflow condition, and therefore the LGI in WA2 is incomplete. If a complete list of BINs for the tax lot is required, Function 1A may be called with the long WA2 option for the same input data to retrieve the BINs of all buildings on the tax lot.'}\n",
      "{'GRC Value/ Reason Code Value': '01/*', 'Meaning': '(Warning) [related to TPAD]See Chapter VI.11.Various messages are returned with this reason code. The Conflict flag is set to correspond to the specific warning message'}\n",
      "{'GRC Value/ Reason Code Value': '04', 'Meaning': 'An invalid value has been specified for the 1A/BL Version Switch. Must be ‘S’ for standard. See Chapter VI.8.'}\n",
      "{'GRC Value/ Reason Code Value': '07', 'Meaning': 'The input street was specified as a B5SC (or PB5SC) representing a NAP that is the name of a complex. Five-digit street code input is not permitted for the name of a complex. Either the NAP itself (the name of the complex) must be specified in the input street name field, or its B7SC or B10SC must be specified in the appropriate input street code field.'}\n",
      "{'GRC Value/ Reason Code Value': '41', 'Meaning': 'The input street name is valid but this entire street has no addresses.'}\n",
      "{'GRC Value/ Reason Code Value': '42', 'Meaning': 'The input address is not valid (as defined in Chapter V.4).'}\n",
      "{'GRC Value/ Reason Code Value': '50', 'Meaning': 'The input street name is not valid for the portion of the street where the input house number is located. See Chapter IV.5.'}\n",
      "{'GRC Value/ Reason Code Value': '69/B', 'Meaning': 'Invalid TPAD Request Switch. Must be Y, N or blank'}\n",
      "{'GRC Value/ Reason Code Value': '73', 'Meaning': 'Legacy version of Function 1A is discontinued. See Technical Bulletin 05-1.'}\n",
      "{'GRC Value/ Reason Code Value': '75', 'Meaning': 'The input address is a ‘duplicate address’ - i.e., the same address exists at two different locations on the given input street. (Note: this is not a user input data error, but an address duplication that exists in reality.) See Chapter V.6.'}\n",
      "{'GRC Value/ Reason Code Value': '90', 'Meaning': 'Invalid value specified for Long WA2 Flag – must be ‘L’ or blank'}\n",
      "{'GRC Value/ Reason Code Value': '01/E', 'Meaning': '(Warning) The output address range returned in WA2 is split by an election district boundary. Therefore, the election district value returned in WA2 applies to only a portion of that address range.'}\n",
      "{'GRC Value/ Reason Code Value': '56', 'Meaning': 'The input address is associated with more than one Election District (ED). Function 1E requires that this address be specified with a house number suffix to identify a portion of the building specific to one ED. See Chapter V.4.'}\n"
     ]
    }
   ],
   "source": [
    "for e in errs:\n",
    "    for d in e:\n",
    "        for k in list(d.keys()):\n",
    "            if k in ['GRC Value/ Reason Code Value']:\n",
    "                print(d)"
   ]
  },
  {
   "cell_type": "code",
   "execution_count": 51,
   "metadata": {},
   "outputs": [],
   "source": [
    "l = ['GRC Value/ Reason Code Value', 2]"
   ]
  },
  {
   "cell_type": "code",
   "execution_count": 52,
   "metadata": {},
   "outputs": [
    {
     "name": "stdout",
     "output_type": "stream",
     "text": [
      "GRC Value/ Reason Code Value\n"
     ]
    }
   ],
   "source": [
    "for i in l:\n",
    "    if i in 'GRC Value/ Reason Code Value':\n",
    "        print(i)"
   ]
  },
  {
   "cell_type": "markdown",
   "metadata": {},
   "source": [
    "### Validate if functions can be chained together"
   ]
  },
  {
   "cell_type": "code",
   "execution_count": null,
   "metadata": {},
   "outputs": [],
   "source": [
    "#Create a dictionary for validation\n",
    "{'BN': ['1A', '1B', '1E', '1L', '1N', 'AP', 'BL', 'D', 'N']}\n",
    "{'BL': ['1A', '1B', '1E', '1L', '1N', 'AP', 'BN', 'D', 'N']}"
   ]
  },
  {
   "cell_type": "markdown",
   "metadata": {},
   "source": [
    "### Output Mapper"
   ]
  },
  {
   "cell_type": "code",
   "execution_count": 72,
   "metadata": {},
   "outputs": [],
   "source": [
    "#Map function outputs to function inputs for functions that are being chained together"
   ]
  },
  {
   "cell_type": "markdown",
   "metadata": {},
   "source": [
    "### Function Calls"
   ]
  },
  {
   "cell_type": "code",
   "execution_count": 70,
   "metadata": {},
   "outputs": [],
   "source": [
    "def check_fun_args(fun, **fun_args):\n",
    "    print(fun_args)\n",
    "    fun1 = check_fun(fun)\n",
    "    print(fun1)\n",
    "        \n",
    "    fun_url = get_fun_url(fun1)\n",
    "    print(fun_url)\n",
    "    \n",
    "    exp_arg = get_arg_dict(fun1)\n",
    "\n",
    "    arg_diff = set(exp_arg) - set(fun_args)\n",
    "    print(len(arg_diff))\n",
    "    \n",
    "    if len(arg_diff) == 0:\n",
    "        print('Success, all required arguments supplied')\n",
    "    else:\n",
    "        missing_args = ', '.join([d for d in arg_diff])\n",
    "        print('Fail, not all required arguments supplied. Missing: {}.'.format(missing_args))"
   ]
  },
  {
   "cell_type": "code",
   "execution_count": 68,
   "metadata": {},
   "outputs": [
    {
     "name": "stdout",
     "output_type": "stream",
     "text": [
      "{'Borough': '1', 'AddressNo': '830', 'StreetName': 'Fifth Ave', 'Key': '123456'}\n",
      "1A\n",
      "https://geoservice.planning.nyc.gov/geoservice/geoservice.svc/Function_1A?\n",
      "0\n",
      "Success, all required arguments supplied\n"
     ]
    }
   ],
   "source": [
    "check_fun_args(fun = '1A', Borough = '1', AddressNo = '830', StreetName = 'Fifth Ave', Key = '123456')"
   ]
  },
  {
   "cell_type": "code",
   "execution_count": 71,
   "metadata": {},
   "outputs": [
    {
     "name": "stdout",
     "output_type": "stream",
     "text": [
      "{'Borough': '1', 'AddressNo': '830'}\n",
      "1A\n",
      "https://geoservice.planning.nyc.gov/geoservice/geoservice.svc/Function_1A?\n",
      "2\n",
      "Fail, not all required arguments supplied. Missing: StreetName, Key.\n"
     ]
    }
   ],
   "source": [
    "check_fun_args(fun = '1A', Borough = '1', AddressNo = '830')"
   ]
  },
  {
   "cell_type": "code",
   "execution_count": null,
   "metadata": {},
   "outputs": [],
   "source": [
    "def geoservice(funs, **kwargs):\n",
    "    if isinstance(funs, list):\n",
    "        url = get_fun_url(funs[0])\n",
    "        \n",
    "    elif isinstance(funs, str):\n",
    "        url = get_fun_url(funs[0])\n",
    "    \n",
    "    else raise TypeError('The ')"
   ]
  }
 ],
 "metadata": {
  "kernelspec": {
   "display_name": "Python 3",
   "language": "python",
   "name": "python3"
  },
  "language_info": {
   "codemirror_mode": {
    "name": "ipython",
    "version": 3
   },
   "file_extension": ".py",
   "mimetype": "text/x-python",
   "name": "python",
   "nbconvert_exporter": "python",
   "pygments_lexer": "ipython3",
   "version": "3.8.3"
  }
 },
 "nbformat": 4,
 "nbformat_minor": 4
}
